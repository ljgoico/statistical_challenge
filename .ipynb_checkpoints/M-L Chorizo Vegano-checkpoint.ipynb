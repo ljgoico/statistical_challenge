{
 "cells": [
  {
   "cell_type": "code",
   "execution_count": 187,
   "metadata": {},
   "outputs": [],
   "source": [
    "import pandas as pd\n",
    "import numpy as np\n",
    "from matplotlib.pyplot import matplotlib as plt\n",
    "from matplotlib.pyplot import figure"
   ]
  },
  {
   "cell_type": "code",
   "execution_count": 188,
   "metadata": {},
   "outputs": [],
   "source": [
    "df = pd.read_csv(\"train.csv\")"
   ]
  },
  {
   "cell_type": "markdown",
   "metadata": {},
   "source": [
    "## | 1 |"
   ]
  },
  {
   "cell_type": "code",
   "execution_count": 189,
   "metadata": {},
   "outputs": [
    {
     "data": {
      "text/plain": [
       "(26729, 10)"
      ]
     },
     "execution_count": 189,
     "metadata": {},
     "output_type": "execute_result"
    }
   ],
   "source": [
    "df.shape"
   ]
  },
  {
   "cell_type": "code",
   "execution_count": 198,
   "metadata": {},
   "outputs": [
    {
     "data": {
      "text/plain": [
       "7.977103520520783"
      ]
     },
     "execution_count": 198,
     "metadata": {},
     "output_type": "execute_result"
    }
   ],
   "source": [
    "nulls = df.isnull().sum().sum()\n",
    "nulls / len(df) * 10"
   ]
  },
  {
   "cell_type": "markdown",
   "metadata": {},
   "source": [
    "## | 2 |"
   ]
  },
  {
   "cell_type": "code",
   "execution_count": 174,
   "metadata": {},
   "outputs": [
    {
     "data": {
      "text/html": [
       "<div>\n",
       "<style scoped>\n",
       "    .dataframe tbody tr th:only-of-type {\n",
       "        vertical-align: middle;\n",
       "    }\n",
       "\n",
       "    .dataframe tbody tr th {\n",
       "        vertical-align: top;\n",
       "    }\n",
       "\n",
       "    .dataframe thead th {\n",
       "        text-align: right;\n",
       "    }\n",
       "</style>\n",
       "<table border=\"1\" class=\"dataframe\">\n",
       "  <thead>\n",
       "    <tr style=\"text-align: right;\">\n",
       "      <th></th>\n",
       "      <th>AnimalID</th>\n",
       "      <th>Name</th>\n",
       "      <th>DateTime</th>\n",
       "      <th>OutcomeType</th>\n",
       "      <th>OutcomeSubtype</th>\n",
       "      <th>AnimalType</th>\n",
       "      <th>SexuponOutcome</th>\n",
       "      <th>AgeuponOutcome</th>\n",
       "      <th>Breed</th>\n",
       "      <th>Color</th>\n",
       "    </tr>\n",
       "  </thead>\n",
       "  <tbody>\n",
       "    <tr>\n",
       "      <th>0</th>\n",
       "      <td>A671945</td>\n",
       "      <td>Hambone</td>\n",
       "      <td>2014-02-12 18:22:00</td>\n",
       "      <td>Return_to_owner</td>\n",
       "      <td>NaN</td>\n",
       "      <td>Dog</td>\n",
       "      <td>Neutered Male</td>\n",
       "      <td>1 year</td>\n",
       "      <td>Shetland Sheepdog Mix</td>\n",
       "      <td>Brown/White</td>\n",
       "    </tr>\n",
       "    <tr>\n",
       "      <th>1</th>\n",
       "      <td>A656520</td>\n",
       "      <td>Emily</td>\n",
       "      <td>2013-10-13 12:44:00</td>\n",
       "      <td>Euthanasia</td>\n",
       "      <td>Suffering</td>\n",
       "      <td>Cat</td>\n",
       "      <td>Spayed Female</td>\n",
       "      <td>1 year</td>\n",
       "      <td>Domestic Shorthair Mix</td>\n",
       "      <td>Cream Tabby</td>\n",
       "    </tr>\n",
       "    <tr>\n",
       "      <th>2</th>\n",
       "      <td>A686464</td>\n",
       "      <td>Pearce</td>\n",
       "      <td>2015-01-31 12:28:00</td>\n",
       "      <td>Adoption</td>\n",
       "      <td>Foster</td>\n",
       "      <td>Dog</td>\n",
       "      <td>Neutered Male</td>\n",
       "      <td>2 years</td>\n",
       "      <td>Pit Bull Mix</td>\n",
       "      <td>Blue/White</td>\n",
       "    </tr>\n",
       "    <tr>\n",
       "      <th>3</th>\n",
       "      <td>A683430</td>\n",
       "      <td>NaN</td>\n",
       "      <td>2014-07-11 19:09:00</td>\n",
       "      <td>Transfer</td>\n",
       "      <td>Partner</td>\n",
       "      <td>Cat</td>\n",
       "      <td>Intact Male</td>\n",
       "      <td>3 weeks</td>\n",
       "      <td>Domestic Shorthair Mix</td>\n",
       "      <td>Blue Cream</td>\n",
       "    </tr>\n",
       "    <tr>\n",
       "      <th>4</th>\n",
       "      <td>A667013</td>\n",
       "      <td>NaN</td>\n",
       "      <td>2013-11-15 12:52:00</td>\n",
       "      <td>Transfer</td>\n",
       "      <td>Partner</td>\n",
       "      <td>Dog</td>\n",
       "      <td>Neutered Male</td>\n",
       "      <td>2 years</td>\n",
       "      <td>Lhasa Apso/Miniature Poodle</td>\n",
       "      <td>Tan</td>\n",
       "    </tr>\n",
       "  </tbody>\n",
       "</table>\n",
       "</div>"
      ],
      "text/plain": [
       "  AnimalID     Name             DateTime      OutcomeType OutcomeSubtype  \\\n",
       "0  A671945  Hambone  2014-02-12 18:22:00  Return_to_owner            NaN   \n",
       "1  A656520    Emily  2013-10-13 12:44:00       Euthanasia      Suffering   \n",
       "2  A686464   Pearce  2015-01-31 12:28:00         Adoption         Foster   \n",
       "3  A683430      NaN  2014-07-11 19:09:00         Transfer        Partner   \n",
       "4  A667013      NaN  2013-11-15 12:52:00         Transfer        Partner   \n",
       "\n",
       "  AnimalType SexuponOutcome AgeuponOutcome                        Breed  \\\n",
       "0        Dog  Neutered Male         1 year        Shetland Sheepdog Mix   \n",
       "1        Cat  Spayed Female         1 year       Domestic Shorthair Mix   \n",
       "2        Dog  Neutered Male        2 years                 Pit Bull Mix   \n",
       "3        Cat    Intact Male        3 weeks       Domestic Shorthair Mix   \n",
       "4        Dog  Neutered Male        2 years  Lhasa Apso/Miniature Poodle   \n",
       "\n",
       "         Color  \n",
       "0  Brown/White  \n",
       "1  Cream Tabby  \n",
       "2   Blue/White  \n",
       "3   Blue Cream  \n",
       "4          Tan  "
      ]
     },
     "execution_count": 174,
     "metadata": {},
     "output_type": "execute_result"
    }
   ],
   "source": [
    "df.head()"
   ]
  },
  {
   "cell_type": "code",
   "execution_count": 175,
   "metadata": {},
   "outputs": [
    {
     "name": "stdout",
     "output_type": "stream",
     "text": [
      "<class 'pandas.core.frame.DataFrame'>\n",
      "RangeIndex: 26729 entries, 0 to 26728\n",
      "Data columns (total 10 columns):\n",
      "AnimalID          26729 non-null object\n",
      "Name              19038 non-null object\n",
      "DateTime          26729 non-null object\n",
      "OutcomeType       26729 non-null object\n",
      "OutcomeSubtype    13117 non-null object\n",
      "AnimalType        26729 non-null object\n",
      "SexuponOutcome    26728 non-null object\n",
      "AgeuponOutcome    26711 non-null object\n",
      "Breed             26729 non-null object\n",
      "Color             26729 non-null object\n",
      "dtypes: object(10)\n",
      "memory usage: 2.0+ MB\n"
     ]
    }
   ],
   "source": [
    "df.info()"
   ]
  },
  {
   "cell_type": "code",
   "execution_count": 199,
   "metadata": {},
   "outputs": [],
   "source": [
    "### Hay una fecha (DateTime), una numerica (AgeUponOPutcome) y el resto son categoricas. ###"
   ]
  },
  {
   "cell_type": "markdown",
   "metadata": {},
   "source": [
    "## | 3 |"
   ]
  },
  {
   "cell_type": "code",
   "execution_count": 203,
   "metadata": {},
   "outputs": [
    {
     "data": {
      "text/plain": [
       "False    26729\n",
       "dtype: int64"
      ]
     },
     "execution_count": 203,
     "metadata": {},
     "output_type": "execute_result"
    }
   ],
   "source": [
    "df.duplicated(subset=None, keep='first').value_counts()"
   ]
  },
  {
   "cell_type": "markdown",
   "metadata": {},
   "source": [
    "## | 4 |"
   ]
  },
  {
   "cell_type": "code",
   "execution_count": 204,
   "metadata": {},
   "outputs": [
    {
     "name": "stdout",
     "output_type": "stream",
     "text": [
      "AnimalID\n",
      "26729\n",
      "A669274    1\n",
      "A670563    1\n",
      "A692070    1\n",
      "A679500    1\n",
      "A667950    1\n",
      "A699872    1\n",
      "A689775    1\n",
      "A701076    1\n",
      "A686254    1\n",
      "A665139    1\n",
      "A704967    1\n",
      "A702472    1\n",
      "A701873    1\n",
      "A668489    1\n",
      "A707348    1\n",
      "A664997    1\n",
      "A691943    1\n",
      "A712292    1\n",
      "A714069    1\n",
      "A679238    1\n",
      "A689244    1\n",
      "A707869    1\n",
      "A370852    1\n",
      "A709261    1\n",
      "A699877    1\n",
      "A702576    1\n",
      "A696926    1\n",
      "A712084    1\n",
      "A717430    1\n",
      "A619664    1\n",
      "          ..\n",
      "A696737    1\n",
      "A663510    1\n",
      "A707884    1\n",
      "A698564    1\n",
      "A714386    1\n",
      "A683225    1\n",
      "A665782    1\n",
      "A607728    1\n",
      "A699094    1\n",
      "A681033    1\n",
      "A705467    1\n",
      "A695223    1\n",
      "A631581    1\n",
      "A671945    1\n",
      "A671931    1\n",
      "A666591    1\n",
      "A684505    1\n",
      "A685087    1\n",
      "A688452    1\n",
      "A702142    1\n",
      "A692468    1\n",
      "A698595    1\n",
      "A687129    1\n",
      "A683066    1\n",
      "A660623    1\n",
      "A665021    1\n",
      "A709357    1\n",
      "A674573    1\n",
      "A671106    1\n",
      "A690423    1\n",
      "Name: AnimalID, Length: 26729, dtype: int64\n",
      "Name\n",
      "6375\n",
      "Max          136\n",
      "Bella        135\n",
      "Charlie      107\n",
      "Daisy        106\n",
      "Lucy          94\n",
      "Buddy         87\n",
      "Princess      86\n",
      "Rocky         85\n",
      "Luna          68\n",
      "Jack          66\n",
      "Lola          61\n",
      "Sadie         58\n",
      "Molly         57\n",
      "Shadow        57\n",
      "Coco          55\n",
      "Maggie        55\n",
      "Chico         54\n",
      "Oreo          53\n",
      "Lily          53\n",
      "Blue          52\n",
      "Lucky         51\n",
      "Toby          50\n",
      "Cookie        48\n",
      "Ginger        48\n",
      "Lady          47\n",
      "Sam           46\n",
      "Duke          45\n",
      "Milo          44\n",
      "Sophie        44\n",
      "Oliver        44\n",
      "            ... \n",
      "Katja          1\n",
      "Zu Zu          1\n",
      "Mamas          1\n",
      "Kathrine       1\n",
      "Country        1\n",
      "Ruby Red       1\n",
      "Biscotti       1\n",
      "Red Girl       1\n",
      "Raton          1\n",
      "Aya            1\n",
      "Jaydee         1\n",
      "Tilda          1\n",
      "Berdie         1\n",
      "Soyrizo        1\n",
      "Bino           1\n",
      "Catniss        1\n",
      "Bogart         1\n",
      "Marsha         1\n",
      "Cimba          1\n",
      "Ceelo          1\n",
      "Scherbert      1\n",
      "Hilde          1\n",
      "Starr          1\n",
      "Porthos        1\n",
      "Jugete         1\n",
      "Chicho         1\n",
      "Castiel        1\n",
      "Zen            1\n",
      "Isabaux        1\n",
      "Bonbo          1\n",
      "Name: Name, Length: 6374, dtype: int64\n",
      "DateTime\n",
      "22918\n",
      "2015-08-11 00:00:00    19\n",
      "2015-11-17 00:00:00    17\n",
      "2015-07-02 00:00:00    13\n",
      "2015-04-02 00:00:00    11\n",
      "2014-08-31 09:00:00    10\n",
      "2015-11-23 00:00:00     9\n",
      "2015-09-11 00:00:00     9\n",
      "2016-02-15 00:00:00     9\n",
      "2014-08-26 09:00:00     9\n",
      "2015-11-08 00:00:00     8\n",
      "2014-08-17 09:00:00     8\n",
      "2014-09-06 09:00:00     8\n",
      "2015-08-03 00:00:00     8\n",
      "2014-07-16 09:00:00     8\n",
      "2014-06-21 09:00:00     8\n",
      "2015-06-19 00:00:00     8\n",
      "2015-07-26 09:00:00     8\n",
      "2015-09-01 00:00:00     8\n",
      "2014-04-26 15:31:00     7\n",
      "2014-12-27 11:09:00     7\n",
      "2015-05-31 00:00:00     7\n",
      "2015-11-30 00:00:00     7\n",
      "2015-10-19 09:00:00     7\n",
      "2015-04-25 09:00:00     7\n",
      "2015-08-02 09:00:00     7\n",
      "2015-07-03 09:00:00     7\n",
      "2014-11-05 09:00:00     7\n",
      "2015-04-20 14:08:00     7\n",
      "2016-02-07 00:00:00     7\n",
      "2014-08-16 09:00:00     7\n",
      "                       ..\n",
      "2014-09-27 15:09:00     1\n",
      "2015-10-28 18:16:00     1\n",
      "2016-01-13 17:38:00     1\n",
      "2014-10-14 15:19:00     1\n",
      "2014-12-03 18:04:00     1\n",
      "2014-01-02 18:39:00     1\n",
      "2014-11-14 09:45:00     1\n",
      "2014-06-29 15:07:00     1\n",
      "2016-02-14 18:24:00     1\n",
      "2015-01-19 09:00:00     1\n",
      "2013-11-10 16:44:00     1\n",
      "2014-08-30 16:14:00     1\n",
      "2014-06-19 11:45:00     1\n",
      "2014-05-17 17:13:00     1\n",
      "2015-09-29 17:42:00     1\n",
      "2015-07-02 17:31:00     1\n",
      "2015-08-23 15:20:00     1\n",
      "2015-07-23 17:38:00     1\n",
      "2015-03-15 11:45:00     1\n",
      "2015-08-29 07:49:00     1\n",
      "2015-03-31 12:57:00     1\n",
      "2014-05-29 12:47:00     1\n",
      "2015-11-16 13:34:00     1\n",
      "2015-12-16 14:10:00     1\n",
      "2015-05-10 12:24:00     1\n",
      "2014-08-07 18:26:00     1\n",
      "2014-05-12 14:38:00     1\n",
      "2014-02-23 14:13:00     1\n",
      "2014-10-26 18:25:00     1\n",
      "2015-03-14 17:04:00     1\n",
      "Name: DateTime, Length: 22918, dtype: int64\n",
      "OutcomeType\n",
      "5\n",
      "Adoption           10769\n",
      "Transfer            9422\n",
      "Return_to_owner     4786\n",
      "Euthanasia          1555\n",
      "Died                 197\n",
      "Name: OutcomeType, dtype: int64\n",
      "OutcomeSubtype\n",
      "17\n",
      "Partner                7816\n",
      "Foster                 1800\n",
      "SCRP                   1599\n",
      "Suffering              1002\n",
      "Aggressive              320\n",
      "Offsite                 165\n",
      "In Kennel               114\n",
      "Behavior                 86\n",
      "Rabies Risk              74\n",
      "Medical                  66\n",
      "In Foster                52\n",
      "Enroute                   8\n",
      "Court/Investigation       6\n",
      "At Vet                    4\n",
      "In Surgery                3\n",
      "Barn                      2\n",
      "Name: OutcomeSubtype, dtype: int64\n",
      "AnimalType\n",
      "2\n",
      "Dog    15595\n",
      "Cat    11134\n",
      "Name: AnimalType, dtype: int64\n",
      "SexuponOutcome\n",
      "6\n",
      "Neutered Male    9779\n",
      "Spayed Female    8820\n",
      "Intact Male      3525\n",
      "Intact Female    3511\n",
      "Unknown          1093\n",
      "Name: SexuponOutcome, dtype: int64\n",
      "AgeuponOutcome\n",
      "45\n",
      "1 year       3969\n",
      "2 years      3742\n",
      "2 months     3397\n",
      "3 years      1823\n",
      "1 month      1281\n",
      "3 months     1277\n",
      "4 years      1071\n",
      "5 years       992\n",
      "4 months      888\n",
      "6 years       670\n",
      "3 weeks       659\n",
      "5 months      652\n",
      "6 months      588\n",
      "8 years       536\n",
      "7 years       531\n",
      "2 weeks       529\n",
      "10 months     457\n",
      "10 years      446\n",
      "8 months      402\n",
      "4 weeks       334\n",
      "9 years       288\n",
      "7 months      288\n",
      "12 years      234\n",
      "9 months      224\n",
      "1 weeks       171\n",
      "11 months     166\n",
      "1 week        146\n",
      "13 years      143\n",
      "11 years      126\n",
      "3 days        109\n",
      "2 days         99\n",
      "14 years       97\n",
      "15 years       85\n",
      "1 day          66\n",
      "6 days         50\n",
      "4 days         50\n",
      "16 years       36\n",
      "5 days         24\n",
      "0 years        22\n",
      "17 years       17\n",
      "5 weeks        11\n",
      "18 years       10\n",
      "19 years        3\n",
      "20 years        2\n",
      "Name: AgeuponOutcome, dtype: int64\n",
      "Breed\n",
      "1380\n",
      "Domestic Shorthair Mix                            8810\n",
      "Pit Bull Mix                                      1906\n",
      "Chihuahua Shorthair Mix                           1766\n",
      "Labrador Retriever Mix                            1363\n",
      "Domestic Medium Hair Mix                           839\n",
      "German Shepherd Mix                                575\n",
      "Domestic Longhair Mix                              520\n",
      "Siamese Mix                                        389\n",
      "Australian Cattle Dog Mix                          367\n",
      "Dachshund Mix                                      318\n",
      "Boxer Mix                                          245\n",
      "Miniature Poodle Mix                               233\n",
      "Border Collie Mix                                  229\n",
      "Australian Shepherd Mix                            163\n",
      "Rat Terrier Mix                                    157\n",
      "Catahoula Mix                                      157\n",
      "Jack Russell Terrier Mix                           146\n",
      "Domestic Shorthair                                 143\n",
      "Yorkshire Terrier Mix                              143\n",
      "Chihuahua Longhair Mix                             142\n",
      "Siberian Husky Mix                                 138\n",
      "Miniature Schnauzer Mix                            136\n",
      "Beagle Mix                                         124\n",
      "Rottweiler Mix                                     113\n",
      "American Bulldog Mix                               109\n",
      "Cairn Terrier Mix                                  102\n",
      "Shih Tzu Mix                                       100\n",
      "Chihuahua Shorthair/Dachshund                       98\n",
      "Australian Kelpie Mix                               95\n",
      "Staffordshire Mix                                   94\n",
      "                                                  ... \n",
      "Cardigan Welsh Corgi/Cardigan Welsh Corgi            1\n",
      "Australian Cattle Dog/Collie Smooth                  1\n",
      "Dogo Argentino/Labrador Retriever                    1\n",
      "Akita/German Shepherd                                1\n",
      "Bulldog/Pit Bull                                     1\n",
      "English Bulldog/American Staffordshire Terrier       1\n",
      "Staffordshire/Labrador Retriever                     1\n",
      "Pomeranian/Jack Russell Terrier                      1\n",
      "Pit Bull/American Bulldog                            1\n",
      "Pharaoh Hound/Australian Cattle Dog                  1\n",
      "Leonberger                                           1\n",
      "Beagle/Chinese Sharpei                               1\n",
      "West Highland/Chihuahua Shorthair                    1\n",
      "Jack Russell Terrier/Miniature Schnauzer             1\n",
      "Standard Poodle/Whippet                              1\n",
      "Australian Shepherd/English Springer Spaniel         1\n",
      "Jack Russell Terrier/Pointer                         1\n",
      "Dachshund/German Pinscher                            1\n",
      "Blue Lacy/Collie Smooth                              1\n",
      "German Shepherd/Australian Kelpie                    1\n",
      "English Springer Spaniel/Beagle                      1\n",
      "Chihuahua Shorthair/Parson Russell Terrier           1\n",
      "Australian Kelpie/Labrador Retriever                 1\n",
      "Queensland Heeler/Pointer                            1\n",
      "Pug/Pit Bull                                         1\n",
      "Cardigan Welsh Corgi/Miniature Pinscher              1\n",
      "Dachshund Longhair/Pembroke Welsh Corgi              1\n",
      "Australian Shepherd/Siberian Husky                   1\n",
      "Border Collie/Plott Hound                            1\n",
      "Cardigan Welsh Corgi/English Setter                  1\n",
      "Name: Breed, Length: 1380, dtype: int64\n",
      "Color\n",
      "366\n",
      "Black/White              2824\n",
      "Black                    2292\n",
      "Brown Tabby              1635\n",
      "Brown Tabby/White         940\n",
      "White                     931\n",
      "Brown/White               884\n",
      "Orange Tabby              841\n",
      "Tan/White                 773\n",
      "Tricolor                  752\n",
      "Blue/White                702\n",
      "Black/Tan                 672\n",
      "White/Black               643\n",
      "Brown                     639\n",
      "Tan                       628\n",
      "White/Brown               569\n",
      "Tortie                    530\n",
      "Calico                    517\n",
      "Orange Tabby/White        455\n",
      "Blue                      450\n",
      "Brown Brindle/White       450\n",
      "Black/Brown               436\n",
      "Blue Tabby                433\n",
      "White/Tan                 389\n",
      "Red                       337\n",
      "Torbie                    335\n",
      "Brown/Black               333\n",
      "Red/White                 331\n",
      "Blue Tabby/White          241\n",
      "Brown Brindle             232\n",
      "Chocolate/White           224\n",
      "                         ... \n",
      "Blue Merle/Red              1\n",
      "Orange Tabby/Orange         1\n",
      "Blue Tabby/Orange           1\n",
      "Cream/Seal Point            1\n",
      "Black/Silver Tabby          1\n",
      "Liver Tick/White            1\n",
      "Calico/Blue Tabby           1\n",
      "Tan/Brown Brindle           1\n",
      "Blue Cream/Blue Tabby       1\n",
      "Calico/Brown                1\n",
      "Blue/Orange                 1\n",
      "Brown/Brown Merle           1\n",
      "Blue Cream/Buff             1\n",
      "Blue Merle/Red Merle        1\n",
      "Brown/Black Tabby           1\n",
      "Blue Merle/Blue Merle       1\n",
      "Agouti/Brown Tabby          1\n",
      "Chocolate/Gray              1\n",
      "Gray/Red                    1\n",
      "Red Merle/Tan               1\n",
      "Black Brindle/Black         1\n",
      "Brown Merle/Tan             1\n",
      "Tan/Brown Merle             1\n",
      "Buff/Red                    1\n",
      "Fawn/Tricolor               1\n",
      "Blue Cream/Tortie           1\n",
      "Black/Black Tabby           1\n",
      "Fawn/Brown                  1\n",
      "Sable/Red                   1\n",
      "Red Tick/Black              1\n",
      "Name: Color, Length: 366, dtype: int64\n",
      "Dup\n",
      "1\n",
      "False    26729\n",
      "Name: Dup, dtype: int64\n"
     ]
    }
   ],
   "source": [
    "for col in columns:\n",
    "    print(col)\n",
    "    print(len(df[col].unique()))\n",
    "    print(df[col].value_counts())"
   ]
  },
  {
   "cell_type": "markdown",
   "metadata": {},
   "source": [
    "## | 5 |"
   ]
  },
  {
   "cell_type": "code",
   "execution_count": 205,
   "metadata": {},
   "outputs": [],
   "source": [
    "def prop(df, value):\n",
    "    var = df[df.OutcomeType==value]\n",
    "    print(value)\n",
    "    print(len(var)/len(df))"
   ]
  },
  {
   "cell_type": "code",
   "execution_count": 206,
   "metadata": {},
   "outputs": [
    {
     "name": "stdout",
     "output_type": "stream",
     "text": [
      "Return_to_owner\n",
      "0.1790564555351865\n",
      "Euthanasia\n",
      "0.05817651240225972\n",
      "Adoption\n",
      "0.40289573122825395\n",
      "Transfer\n",
      "0.3525010288450746\n",
      "Died\n",
      "0.007370271989225186\n"
     ]
    }
   ],
   "source": [
    "for value in data:\n",
    "    prop(df, value)"
   ]
  },
  {
   "cell_type": "markdown",
   "metadata": {},
   "source": [
    "## | 6 |"
   ]
  },
  {
   "cell_type": "code",
   "execution_count": 207,
   "metadata": {},
   "outputs": [
    {
     "name": "stdout",
     "output_type": "stream",
     "text": [
      "Return_to_owner\n",
      "0.04490749056942698\n",
      "Euthanasia\n",
      "0.06376863660858631\n",
      "Adoption\n",
      "0.3836895994251841\n",
      "Transfer\n",
      "0.49443147116939107\n",
      "Died\n",
      "0.013202802227411532\n"
     ]
    }
   ],
   "source": [
    "cat = df[df.AnimalType == \"Cat\"]\n",
    "data = df.OutcomeType.unique()\n",
    "for value in data:\n",
    "    prop(cat, value)"
   ]
  },
  {
   "cell_type": "code",
   "execution_count": 208,
   "metadata": {},
   "outputs": [
    {
     "name": "stdout",
     "output_type": "stream",
     "text": [
      "Return_to_owner\n",
      "0.27483167681949344\n",
      "Euthanasia\n",
      "0.05418403334402052\n",
      "Adoption\n",
      "0.41660788714331515\n",
      "Transfer\n",
      "0.2511702468739981\n",
      "Died\n",
      "0.0032061558191728116\n"
     ]
    }
   ],
   "source": [
    "dog = df[df.AnimalType == 'Dog']\n",
    "for value in data:\n",
    "    prop(dog, value)"
   ]
  },
  {
   "cell_type": "markdown",
   "metadata": {},
   "source": [
    "## | 7 |"
   ]
  },
  {
   "cell_type": "code",
   "execution_count": 209,
   "metadata": {},
   "outputs": [
    {
     "data": {
      "text/plain": [
       "<matplotlib.axes._subplots.AxesSubplot at 0x1267157b8>"
      ]
     },
     "execution_count": 209,
     "metadata": {},
     "output_type": "execute_result"
    },
    {
     "data": {
      "image/png": "[encoded data removed]",
      "text/plain": [
       "<Figure size 1600x480 with 1 Axes>"
      ]
     },
     "metadata": {},
     "output_type": "display_data"
    }
   ],
   "source": [
    "figure(num=None, figsize=(20, 6), dpi=80, facecolor='w', edgecolor='k')\n",
    "df[\"OutcomeSubtype\"].hist()"
   ]
  },
  {
   "cell_type": "code",
   "execution_count": 185,
   "metadata": {},
   "outputs": [
    {
     "data": {
      "text/plain": [
       "<matplotlib.axes._subplots.AxesSubplot at 0x127d54e80>"
      ]
     },
     "execution_count": 185,
     "metadata": {},
     "output_type": "execute_result"
    },
    {
     "data": {
      "image/png": "[encoded data removed]",
      "text/plain": [
       "<Figure size 1600x480 with 1 Axes>"
      ]
     },
     "metadata": {},
     "output_type": "display_data"
    }
   ],
   "source": [
    "figure(num=None, figsize=(20, 6), dpi=80, facecolor='w', edgecolor='k')\n",
    "df[\"AgeuponOutcome\"].hist()"
   ]
  },
  {
   "cell_type": "markdown",
   "metadata": {},
   "source": [
    "## | 8 |"
   ]
  },
  {
   "cell_type": "code",
   "execution_count": 212,
   "metadata": {},
   "outputs": [],
   "source": [
    "male = df[(df.SexuponOutcome == 'Neutered Male') | (df.SexuponOutcome == 'Intact Male') ]\n",
    "female = df[(df.SexuponOutcome == 'Spayed Female') | (df.SexuponOutcome == 'Intact Female') ]"
   ]
  },
  {
   "cell_type": "code",
   "execution_count": 213,
   "metadata": {},
   "outputs": [],
   "source": [
    "def prop(df, value):\n",
    "    var = df[df.OutcomeType==value]\n",
    "    return(len(var)/len(df))"
   ]
  },
  {
   "cell_type": "code",
   "execution_count": 214,
   "metadata": {},
   "outputs": [
    {
     "name": "stdout",
     "output_type": "stream",
     "text": [
      "Return_to_owner\n",
      "0.2600729193218638\n",
      "Euthanasia\n",
      "0.339872389276868\n",
      "Adoption\n",
      "3.439699695671512e-23\n",
      "Transfer\n",
      "0.0693160589277285\n",
      "Died\n",
      "0.0005182404368703555\n"
     ]
    }
   ],
   "source": [
    "from statsmodels.stats.proportion import proportions_ztest\n",
    "for value in data:\n",
    "    proportion = prop(male, value)\n",
    "    ttl = prop(df, value)\n",
    "    print(value)\n",
    "    if proportion > ttl:\n",
    "        print(proportions_ztest(ttl,proportion, 0.05)[1])\n",
    "    else:\n",
    "        print(proportions_ztest(proportion, ttl, 0.05)[1])"
   ]
  },
  {
   "cell_type": "code",
   "execution_count": null,
   "metadata": {},
   "outputs": [],
   "source": [
    "# Para \"Died\", \"Transfer\" (por poco) y \"Adoption\" se podría decir que sí afecta el género, pero no para el resto #"
   ]
  },
  {
   "cell_type": "markdown",
   "metadata": {},
   "source": [
    "## | 9 |"
   ]
  },
  {
   "cell_type": "code",
   "execution_count": 215,
   "metadata": {},
   "outputs": [],
   "source": [
    "df['month'] = pd.DatetimeIndex(df['DateTime']).month"
   ]
  },
  {
   "cell_type": "markdown",
   "metadata": {},
   "source": [
    "## | 10 |"
   ]
  },
  {
   "cell_type": "code",
   "execution_count": 177,
   "metadata": {},
   "outputs": [
    {
     "data": {
      "text/plain": [
       "array(['1 year', '2 years', '3 weeks', '1 month', '5 months', '4 years',\n",
       "       '3 months', '2 weeks', '2 months', '10 months', '6 months',\n",
       "       '5 years', '7 years', '3 years', '4 months', '12 years', '9 years',\n",
       "       '6 years', '1 weeks', '11 years', '4 weeks', '7 months', '8 years',\n",
       "       '11 months', '4 days', '9 months', '8 months', '15 years',\n",
       "       '10 years', '1 week', '0 years', '14 years', '3 days', '6 days',\n",
       "       '5 days', '5 weeks', '2 days', '16 years', '1 day', '13 years', 0,\n",
       "       '17 years', '18 years', '19 years', '20 years'], dtype=object)"
      ]
     },
     "execution_count": 177,
     "metadata": {},
     "output_type": "execute_result"
    }
   ],
   "source": [
    "df[\"AgeuponOutcome\"].unique()"
   ]
  },
  {
   "cell_type": "code",
   "execution_count": 178,
   "metadata": {},
   "outputs": [],
   "source": [
    "df.loc[df[\"AgeuponOutcome\"].str.startswith(\"20 years\", na=False), \"AgeuponOutcome\"] = 1040\n",
    "df.loc[df[\"AgeuponOutcome\"].str.startswith(\"19 years\", na=False), \"AgeuponOutcome\"] = 988\n",
    "df.loc[df[\"AgeuponOutcome\"].str.startswith(\"18 years\", na=False), \"AgeuponOutcome\"] = 936\n",
    "df.loc[df[\"AgeuponOutcome\"].str.startswith(\"17 years\", na=False), \"AgeuponOutcome\"] = 884\n",
    "df.loc[df[\"AgeuponOutcome\"].str.startswith(\"1 day\", na=False), \"AgeuponOutcome\"] = 1/7\n",
    "df.loc[df[\"AgeuponOutcome\"].str.startswith(\"16 years\", na=False), \"AgeuponOutcome\"] = 832\n",
    "df.loc[df[\"AgeuponOutcome\"].str.startswith(\"2 days\", na=False), \"AgeuponOutcome\"] = 2/7\n",
    "df.loc[df[\"AgeuponOutcome\"].str.startswith(\"5 weeks\", na=False), \"AgeuponOutcome\"] = 5\n",
    "df.loc[df[\"AgeuponOutcome\"].str.startswith(\"5 days\", na=False), \"AgeuponOutcome\"] = 5/7\n",
    "df.loc[df[\"AgeuponOutcome\"].str.startswith(\"6 days\", na=False), \"AgeuponOutcome\"] = 6/7\n",
    "df.loc[df[\"AgeuponOutcome\"].str.startswith(\"3 days\", na=False), \"AgeuponOutcome\"] = 3/7\n",
    "df.loc[df[\"AgeuponOutcome\"].str.startswith(\"14 years\", na=False), \"AgeuponOutcome\"] = 728\n",
    "df.loc[df[\"AgeuponOutcome\"].str.startswith(\"0 years\", na=False), \"AgeuponOutcome\"] = 0\n",
    "df.loc[df[\"AgeuponOutcome\"].str.startswith(\"1 week\", na=False), \"AgeuponOutcome\"] = 1\n",
    "df.loc[df[\"AgeuponOutcome\"].str.startswith(\"10 years\", na=False), \"AgeuponOutcome\"] = 520\n",
    "df.loc[df['AgeuponOutcome'].str.startswith('1 year', na=False), 'AgeuponOutcome'] = 52\n",
    "df.loc[df['AgeuponOutcome'].str.startswith('2 years', na=False), 'AgeuponOutcome'] = 104\n",
    "df.loc[df['AgeuponOutcome'].str.startswith('3 weeks', na=False), 'AgeuponOutcome'] = 3\n",
    "df.loc[df['AgeuponOutcome'].str.startswith('1 month', na=False), 'AgeuponOutcome'] = 4\n",
    "df.loc[df['AgeuponOutcome'].str.startswith('5 months', na=False), 'AgeuponOutcome'] = 20\n",
    "df.loc[df['AgeuponOutcome'].str.startswith('4 years', na=False), 'AgeuponOutcome'] = 208\n",
    "df.loc[df['AgeuponOutcome'].str.startswith('3 months', na=False), 'AgeuponOutcome'] = 12\n",
    "df.loc[df['AgeuponOutcome'].str.startswith('2 weeks', na=False), 'AgeuponOutcome'] = 2\n",
    "df.loc[df['AgeuponOutcome'].str.startswith('2 months', na=False), 'AgeuponOutcome'] = 8\n",
    "df.loc[df['AgeuponOutcome'].str.startswith('10 months', na=False), 'AgeuponOutcome'] = 40\n",
    "df.loc[df['AgeuponOutcome'].str.startswith('6 months', na=False), 'AgeuponOutcome'] = 24\n",
    "df.loc[df['AgeuponOutcome'].str.startswith('5 years', na=False), 'AgeuponOutcome'] = 260\n",
    "df.loc[df['AgeuponOutcome'].str.startswith('7 years', na=False), 'AgeuponOutcome'] = 364\n",
    "df.loc[df['AgeuponOutcome'].str.startswith('3 years', na=False), 'AgeuponOutcome'] = 156\n",
    "df.loc[df['AgeuponOutcome'].str.startswith('4 months', na=False), 'AgeuponOutcome'] = 16\n",
    "df.loc[df['AgeuponOutcome'].str.startswith('7 months', na=False), 'AgeuponOutcome'] = 28\n",
    "df.loc[df['AgeuponOutcome'].str.startswith('8 years', na=False), 'AgeuponOutcome'] = 416\n",
    "df.loc[df['AgeuponOutcome'].str.startswith('11 months', na=False), 'AgeuponOutcome'] = 44\n",
    "df.loc[df['AgeuponOutcome'].str.startswith('9 months', na=False), 'AgeuponOutcome'] = 36\n",
    "df.loc[df['AgeuponOutcome'].str.startswith('8 months', na=False), 'AgeuponOutcome'] = 32\n",
    "df.loc[df['AgeuponOutcome'].str.startswith('15 years', na=False), 'AgeuponOutcome'] = 780\n",
    "df.loc[df['AgeuponOutcome'].str.startswith('11 years', na=False), 'AgeuponOutcome'] = 572\n",
    "df.loc[df['AgeuponOutcome'].str.startswith('12 years', na=False), 'AgeuponOutcome'] = 624\n",
    "df.loc[df['AgeuponOutcome'].str.startswith('13 years', na=False), 'AgeuponOutcome'] = 676\n",
    "df.loc[df['AgeuponOutcome'].str.startswith('9 years', na=False), 'AgeuponOutcome'] = 468\n",
    "df.loc[df['AgeuponOutcome'].str.startswith('4 weeks', na=False), 'AgeuponOutcome'] = 4\n",
    "df.loc[df['AgeuponOutcome'].str.startswith('6 years', na=False), 'AgeuponOutcome'] = 312\n",
    "df.loc[df['AgeuponOutcome'].str.startswith('4 days', na=False), 'AgeuponOutcome'] = 4/7"
   ]
  },
  {
   "cell_type": "code",
   "execution_count": 179,
   "metadata": {},
   "outputs": [
    {
     "data": {
      "text/plain": [
       "array([52, 104, 3, 4, 20, 208, 12, 2, 8, 40, 24, 260, 364, 156, 16, 624,\n",
       "       468, 312, 1, 572, 28, 416, 44, 0.5714285714285714, 36, 32, 780,\n",
       "       520, 0, 728, 0.42857142857142855, 0.8571428571428571,\n",
       "       0.7142857142857143, 5, 0.2857142857142857, 832,\n",
       "       0.14285714285714285, 676, 884, 936, 988, 1040], dtype=object)"
      ]
     },
     "execution_count": 179,
     "metadata": {},
     "output_type": "execute_result"
    }
   ],
   "source": [
    "df[\"AgeuponOutcome\"].unique()"
   ]
  },
  {
   "cell_type": "code",
   "execution_count": 180,
   "metadata": {},
   "outputs": [],
   "source": [
    "df[\"AgeuponOutcome\"] = pd.to_numeric(df[\"AgeuponOutcome\"])"
   ]
  },
  {
   "cell_type": "code",
   "execution_count": 181,
   "metadata": {},
   "outputs": [
    {
     "name": "stdout",
     "output_type": "stream",
     "text": [
      "<class 'pandas.core.frame.DataFrame'>\n",
      "RangeIndex: 26729 entries, 0 to 26728\n",
      "Data columns (total 10 columns):\n",
      "AnimalID          26729 non-null object\n",
      "Name              26729 non-null object\n",
      "DateTime          26729 non-null object\n",
      "OutcomeType       26729 non-null object\n",
      "OutcomeSubtype    26729 non-null object\n",
      "AnimalType        26729 non-null object\n",
      "SexuponOutcome    26729 non-null object\n",
      "AgeuponOutcome    26729 non-null float64\n",
      "Breed             26729 non-null object\n",
      "Color             26729 non-null object\n",
      "dtypes: float64(1), object(9)\n",
      "memory usage: 2.0+ MB\n"
     ]
    }
   ],
   "source": [
    "df.info()"
   ]
  },
  {
   "cell_type": "code",
   "execution_count": 182,
   "metadata": {},
   "outputs": [],
   "source": [
    "sample = df.sample(10000)"
   ]
  },
  {
   "cell_type": "code",
   "execution_count": 184,
   "metadata": {},
   "outputs": [
    {
     "data": {
      "text/plain": [
       "Ttest_1sampResult(statistic=0.34552349272076754, pvalue=0.7297081204983261)"
      ]
     },
     "execution_count": 184,
     "metadata": {},
     "output_type": "execute_result"
    }
   ],
   "source": [
    "from scipy.stats import ttest_1samp\n",
    "ttest_1samp(sample['AgeuponOutcome'],agemean)"
   ]
  }
 ],
 "metadata": {
  "kernelspec": {
   "display_name": "Python 3",
   "language": "python",
   "name": "python3"
  },
  "language_info": {
   "codemirror_mode": {
    "name": "ipython",
    "version": 3
   },
   "file_extension": ".py",
   "mimetype": "text/x-python",
   "name": "python",
   "nbconvert_exporter": "python",
   "pygments_lexer": "ipython3",
   "version": "3.7.3"
  }
 },
 "nbformat": 4,
 "nbformat_minor": 2
}
